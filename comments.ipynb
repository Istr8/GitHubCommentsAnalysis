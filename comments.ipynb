{
 "cells": [
  {
   "cell_type": "code",
   "execution_count": 1,
   "id": "76b37a4a",
   "metadata": {},
   "outputs": [],
   "source": [
    "import os\n",
    "import numpy as np\n",
    "import matplotlib.pyplot as plt\n",
    "import re\n",
    "import json"
   ]
  },
  {
   "cell_type": "code",
   "execution_count": 2,
   "id": "b74f3f57",
   "metadata": {},
   "outputs": [],
   "source": [
    "import pandas as pd\n",
    "\n",
    "data = 'data/'\n",
    "\n",
    "comms = []\n",
    "years = []\n",
    "semesters = []\n",
    "\n",
    "\n",
    "for file in os.listdir(data):\n",
    "    f = open(data + file)\n",
    "    github_comms = json.load(f)\n",
    "    comms.extend([github_comm['body'] for github_comm in github_comms])\n",
    "    years.extend([github_comm['created_at'] for github_comm in github_comms])\n",
    "    semesters.extend([1 if int(github_comm['created_at'][5:7]) >= 10 and int(github_comm['created_at'][5:7]) <= 12 else 2 for github_comm in github_comms])\n",
    "\n",
    "\n",
    "dictionary = {'comm': comms, 'year':years, 'semester' : semesters}\n",
    "\n",
    "df = pd.DataFrame(dictionary)"
   ]
  },
  {
   "cell_type": "code",
   "execution_count": 3,
   "id": "27e7ee39",
   "metadata": {},
   "outputs": [],
   "source": [
    "df[\"year\"] = pd.to_datetime(df[\"year\"])"
   ]
  },
  {
   "cell_type": "code",
   "execution_count": 4,
   "id": "3bb4ab34",
   "metadata": {},
   "outputs": [],
   "source": [
    "df = df.sort_values(by=['year'])"
   ]
  },
  {
   "cell_type": "code",
   "execution_count": 5,
   "id": "18bac8ce",
   "metadata": {},
   "outputs": [
    {
     "data": {
      "text/html": [
       "<div>\n",
       "<style scoped>\n",
       "    .dataframe tbody tr th:only-of-type {\n",
       "        vertical-align: middle;\n",
       "    }\n",
       "\n",
       "    .dataframe tbody tr th {\n",
       "        vertical-align: top;\n",
       "    }\n",
       "\n",
       "    .dataframe thead th {\n",
       "        text-align: right;\n",
       "    }\n",
       "</style>\n",
       "<table border=\"1\" class=\"dataframe\">\n",
       "  <thead>\n",
       "    <tr style=\"text-align: right;\">\n",
       "      <th></th>\n",
       "      <th>comm</th>\n",
       "      <th>year</th>\n",
       "      <th>semester</th>\n",
       "    </tr>\n",
       "  </thead>\n",
       "  <tbody>\n",
       "    <tr>\n",
       "      <th>328</th>\n",
       "      <td>:confused:</td>\n",
       "      <td>2022-11-13 22:25:59+00:00</td>\n",
       "      <td>1</td>\n",
       "    </tr>\n",
       "    <tr>\n",
       "      <th>329</th>\n",
       "      <td>**Fără friend class!**</td>\n",
       "      <td>2022-11-13 22:26:33+00:00</td>\n",
       "      <td>1</td>\n",
       "    </tr>\n",
       "    <tr>\n",
       "      <th>2898</th>\n",
       "      <td>Mai este necesar/are sens atributul `no_of_pas...</td>\n",
       "      <td>2022-11-20 10:45:02+00:00</td>\n",
       "      <td>1</td>\n",
       "    </tr>\n",
       "    <tr>\n",
       "      <th>2064</th>\n",
       "      <td>```c++\\r\\nstd::vector&lt;Planta&gt; Vegetatie::cauta...</td>\n",
       "      <td>2022-11-28 13:08:56+00:00</td>\n",
       "      <td>1</td>\n",
       "    </tr>\n",
       "    <tr>\n",
       "      <th>2256</th>\n",
       "      <td>Să rezolvi și cu tag-ul (v0.1 sau ceva de genu...</td>\n",
       "      <td>2022-11-28 18:27:39+00:00</td>\n",
       "      <td>1</td>\n",
       "    </tr>\n",
       "  </tbody>\n",
       "</table>\n",
       "</div>"
      ],
      "text/plain": [
       "                                                   comm  \\\n",
       "328                                         :confused:    \n",
       "329                              **Fără friend class!**   \n",
       "2898  Mai este necesar/are sens atributul `no_of_pas...   \n",
       "2064  ```c++\\r\\nstd::vector<Planta> Vegetatie::cauta...   \n",
       "2256  Să rezolvi și cu tag-ul (v0.1 sau ceva de genu...   \n",
       "\n",
       "                          year  semester  \n",
       "328  2022-11-13 22:25:59+00:00         1  \n",
       "329  2022-11-13 22:26:33+00:00         1  \n",
       "2898 2022-11-20 10:45:02+00:00         1  \n",
       "2064 2022-11-28 13:08:56+00:00         1  \n",
       "2256 2022-11-28 18:27:39+00:00         1  "
      ]
     },
     "execution_count": 5,
     "metadata": {},
     "output_type": "execute_result"
    }
   ],
   "source": [
    "df.tail()"
   ]
  },
  {
   "cell_type": "code",
   "execution_count": 9,
   "id": "055149b5",
   "metadata": {},
   "outputs": [
    {
     "name": "stdout",
     "output_type": "stream",
     "text": [
      "Collecting textblob\n",
      "  Downloading textblob-0.17.1-py2.py3-none-any.whl (636 kB)\n",
      "\u001b[2K     \u001b[38;2;114;156;31m━━━━━━━━━━━━━━━━━━━━━━━━━━━━━━━━━━━━━━━\u001b[0m \u001b[32m636.8/636.8 kB\u001b[0m \u001b[31m1.2 MB/s\u001b[0m eta \u001b[36m0:00:00\u001b[0m MB/s\u001b[0m eta \u001b[36m0:00:01\u001b[0m:01\u001b[0m\n",
      "\u001b[?25hRequirement already satisfied: nltk>=3.1 in /home/dorian/anaconda3/lib/python3.9/site-packages (from textblob) (3.7)\n",
      "Requirement already satisfied: joblib in /home/dorian/anaconda3/lib/python3.9/site-packages (from nltk>=3.1->textblob) (1.1.0)\n",
      "Requirement already satisfied: regex>=2021.8.3 in /home/dorian/anaconda3/lib/python3.9/site-packages (from nltk>=3.1->textblob) (2022.7.9)\n",
      "Requirement already satisfied: tqdm in /home/dorian/anaconda3/lib/python3.9/site-packages (from nltk>=3.1->textblob) (4.64.1)\n",
      "Requirement already satisfied: click in /home/dorian/anaconda3/lib/python3.9/site-packages (from nltk>=3.1->textblob) (8.0.4)\n",
      "Installing collected packages: textblob\n",
      "Successfully installed textblob-0.17.1\n",
      "Note: you may need to restart the kernel to use updated packages.\n"
     ]
    }
   ],
   "source": [
    "pip install textblob"
   ]
  },
  {
   "cell_type": "code",
   "execution_count": 9,
   "id": "f890f130",
   "metadata": {},
   "outputs": [
    {
     "name": "stderr",
     "output_type": "stream",
     "text": [
      "[nltk_data] Downloading package averaged_perceptron_tagger to\n",
      "[nltk_data]     /home/dorian/nltk_data...\n",
      "[nltk_data]   Unzipping taggers/averaged_perceptron_tagger.zip.\n"
     ]
    },
    {
     "data": {
      "text/plain": [
       "True"
      ]
     },
     "execution_count": 9,
     "metadata": {},
     "output_type": "execute_result"
    }
   ],
   "source": [
    "import nltk\n",
    "\n",
    "nltk.download('averaged_perceptron_tagger')"
   ]
  },
  {
   "cell_type": "code",
   "execution_count": 6,
   "id": "bc3012d3",
   "metadata": {},
   "outputs": [],
   "source": [
    "import nltk\n",
    "from nltk.tokenize import word_tokenize\n",
    "\n",
    "def proceseaza(text):\n",
    "    text = re.sub(r'[0-9]', \"\", text)\n",
    "    text = re.sub(r'\\b\\w{15,100}\\b',\"\",text)\n",
    "    text = re.sub(r'\\:[^()]*\\:', \"\", text)\n",
    "    #text = re.sub(r'\\s+[a-z]\\s+', \" \", text)\n",
    "    text = re.sub(r'\\b\\w{1,1}\\b',\"\",text)\n",
    "    text = re.sub(\"[-–.,:!\\’?\\\"\\'\\/()_*=`<>@~${}\\[\\]%€_]\", \"\", text)\n",
    "    text = text.lower()\n",
    "    text = word_tokenize(text)\n",
    "    return text"
   ]
  },
  {
   "cell_type": "code",
   "execution_count": 7,
   "id": "6f728b35",
   "metadata": {},
   "outputs": [],
   "source": [
    "def remove_emojis(data):\n",
    "    emoj = re.compile(\"[\"\n",
    "        u\"\\U0001F600-\\U0001F64F\"  # emoticons\n",
    "        u\"\\U0001F300-\\U0001F5FF\"  # symbols & pictographs\n",
    "        u\"\\U0001F680-\\U0001F6FF\"  # transport & map symbols\n",
    "        u\"\\U0001F1E0-\\U0001F1FF\"  # flags (iOS)\n",
    "        u\"\\U00002500-\\U00002BEF\"  # chinese char\n",
    "        u\"\\U00002702-\\U000027B0\"\n",
    "        u\"\\U00002702-\\U000027B0\"\n",
    "        u\"\\U000024C2-\\U0001F251\"\n",
    "        u\"\\U0001f926-\\U0001f937\"\n",
    "        u\"\\U00010000-\\U0010ffff\"\n",
    "        u\"\\u2640-\\u2642\" \n",
    "        u\"\\u2600-\\u2B55\"\n",
    "        u\"\\u200d\"\n",
    "        u\"\\u23cf\"\n",
    "        u\"\\u23e9\"\n",
    "        u\"\\u231a\"\n",
    "        u\"\\ufe0f\"  # dingbats\n",
    "        u\"\\u3030\"\n",
    "                      \"]+\", re.UNICODE)\n",
    "    return re.sub(emoj, '', data)\n",
    "\n",
    "df['comm'] = df['comm'].apply(remove_emojis)"
   ]
  },
  {
   "cell_type": "code",
   "execution_count": 8,
   "id": "9cc3a5f9",
   "metadata": {
    "scrolled": true
   },
   "outputs": [
    {
     "data": {
      "text/plain": [
       "2274    [this, is, great, thanks, for, making, these, ...\n",
       "2275    [yes, but, don, test, this, commit, on, window...\n",
       "2276                [will, give, it, spin, next, tuesday]\n",
       "2277                                 [jgonggrijp, thanks]\n",
       "2278    [there, is, still, an, #, include, stdint, in,...\n",
       "                              ...                        \n",
       "328                                                    []\n",
       "329                                 [fără, friend, class]\n",
       "2898    [mai, este, necesarare, sens, atributul, din, ...\n",
       "2064    [++, stdcautaplanteint, an, ;, start, int, ans...\n",
       "2256    [să, rezolvi, și, cu, tagul, sau, ceva, de, ge...\n",
       "Name: comm, Length: 3904, dtype: object"
      ]
     },
     "execution_count": 8,
     "metadata": {},
     "output_type": "execute_result"
    }
   ],
   "source": [
    "texts = df['comm'].apply(proceseaza)\n",
    "\n",
    "\n",
    "texts"
   ]
  },
  {
   "cell_type": "code",
   "execution_count": 9,
   "id": "dc07d5c7",
   "metadata": {},
   "outputs": [
    {
     "data": {
      "text/plain": [
       "2274    this is great thanks for making these changes ...\n",
       "2275    yes but don test this commit on windows bit ma...\n",
       "2276                       will give it spin next tuesday\n",
       "2277                                    jgonggrijp thanks\n",
       "2278    there is still an # include stdint in bycython...\n",
       "                              ...                        \n",
       "328                                                      \n",
       "329                                     fără friend class\n",
       "2898    mai este necesarare sens atributul din moment ...\n",
       "2064    ++ stdcautaplanteint an ; start int ansfarsit ...\n",
       "2256    să rezolvi și cu tagul sau ceva de genul am ui...\n",
       "Name: comm, Length: 3904, dtype: object"
      ]
     },
     "execution_count": 9,
     "metadata": {},
     "output_type": "execute_result"
    }
   ],
   "source": [
    "corpus = texts.map(' '.join)\n",
    "\n",
    "corpus"
   ]
  },
  {
   "cell_type": "code",
   "execution_count": 10,
   "id": "b4de6e42",
   "metadata": {},
   "outputs": [
    {
     "data": {
      "text/plain": [
       "'dacă pot exista mai multe items cu același nume partea asta ar trebui să fie tot în for altfel ar trebui să faci break în for'"
      ]
     },
     "execution_count": 10,
     "metadata": {},
     "output_type": "execute_result"
    }
   ],
   "source": [
    "corpus[500]"
   ]
  },
  {
   "cell_type": "code",
   "execution_count": 11,
   "id": "f494b8fb",
   "metadata": {},
   "outputs": [
    {
     "name": "stderr",
     "output_type": "stream",
     "text": [
      "/home/dorian/anaconda3/lib/python3.9/site-packages/sklearn/feature_extraction/text.py:516: UserWarning: The parameter 'token_pattern' will not be used since 'tokenizer' is not None'\n",
      "  warnings.warn(\n"
     ]
    },
    {
     "name": "stdout",
     "output_type": "stream",
     "text": [
      "{'this': 1710, 'is': 974, 'thanks': 1708, 'for': 752, 'are': 161, 'you': 1921, 'to': 1721, 'upload': 1795, 'new': 1179, 'but': 247, 'test': 1700, 'commit': 374, 'on': 1243, 'windows': 1901, 'my': 1159, 'use': 1802, 'ci': 320, 'and': 120, 'if': 879, 'well': 1894, 'it': 977, 'next': 1182, 'still': 1632, 'an': 119, '#': 0, 'include': 911, 'in': 905, 'as': 174, 'the': 1709, 'fine': 727, 'was': 1892, 'from': 767, 'ok': 1242, 'what': 1896, 'gitignore': 816, 'da': 496, ';': 4, 'poate': 1322, 'să': 1679, 'nici': 1184, 'nu': 1207, 'aibă': 78, 'nume': 1213, 'sunt': 1663, 'tipurile': 1719, 'desigur': 555, 'util': 1811, 'pui': 1397, 'în': 1938, 'pe': 1295, 'post': 1336, 'de': 510, 'documentație': 597, 'spațiu': 1598, 'după': 616, 'virgulă': 1865, 'codul': 359, 'fie': 718, 'curent': 481, 'null': 1208, 'infinită': 927, 'ar': 159, 'fi': 717, 'doar': 596, 'la': 994, 'constructorul': 420, 'copiere': 441, 'aici': 79, 'folosim': 747, 'referință': 1447, 'pentru': 1297, 'evita': 668, 'copieri': 443, 'inutile': 968, 'obiecte': 1227, 'nicio': 1185, 'problemă': 1375, 'faci': 700, 'aș': 210, 'redenumi': 1437, 'metoda': 1109, 'asta': 180, 'adăugare': 53, 'ce': 294, 'vrea': 1878, 'sau': 1523, 'și': 1981, 'mai': 1059, 'bine': 230, 'singură': 1583, 'metodă': 1112, 'prin': 1363, 'acel': 23, 'sigur': 1569, 'dacă': 498, 'merge': 1101, '++': 3, 'void': 1872, 'edit': 629, 'tot': 1726, 'facem': 699, 'modificări': 1134, 'adauga': 44, 'fiind': 721, 'vorba': 1876, 'așa': 211, 'denumirea': 541, 'cu': 476, 'elimina': 643, 'facă': 706, 'acest': 27, 'constructor': 417, 'văd': 1886, 'folosită': 751, 'mult': 1148, 'încurcă': 1949, 'chiar': 316, 'nevoie': 1178, 'cod': 357, 'vechi': 1836, 'deasta': 513, 'există': 683, 'istoric': 975, 'git': 813, 'fel': 712, 'sus': 1674, 'același': 24, 'fără': 784, 'parametri': 1278, 'pare': 1285, 'return': 1478, 'inceput': 908, 'apoi': 151, 'else': 645, 'ceva': 310, 'arată': 160, 'indentarea': 919, 'dar': 500, 'probleme': 1373, 'alte': 111, 'locuri': 1029, 'înțeleg': 1974, 'că': 493, 'nimic': 1188, 'spre': 1607, 'hai': 839, 'cred': 463, 'greșit': 828, 'cerința': 307, 'dpmdv': 608, 'șterge': 1984, 'din': 575, 'vrei': 1880, 'când': 487, 'afișezi': 69, 'tocmai': 1724, 'era': 653, 'ideea': 869, 'adaugi': 46, 'modificările': 1135, 'fișier': 734, 'ștergi': 1985, 'fișierul': 737, 'se': 1547, 'ușor': 1815, 'important': 903, 'pot': 1337, 'încercăm': 1946, 'nice': 1183, 'ai': 76, 'chef': 313, 'poți': 1341, 'te': 1687, 'uiți': 1772, 'un': 1777, 'pic': 1306, 'cel': 301, 'simplu': 1575, 'el': 634, 'int': 951, 'nr': 1206, 'aceleași': 26, 'mici': 1116, 'jos': 986, 'plus': 1321, 'funcție': 773, 'friend': 766, 'implementat': 895, 'ca': 252, 'fapt': 708, 'cerință': 309, 'iar': 864, 'atunci': 195, 'va': 1816, 'avea': 204, 'singur': 1580, 'parametru': 1280, 'uitasem': 1769, 'scuze': 1545, 'parcă': 1284, 'sună': 1664, 'variabilă': 1829, 'bun': 243, 'os': 1267, 'out': 1269, 'pt': 1393, 'eventual': 666, 'afișat': 67, 'felul': 713, 'următor': 1800, 'paranteze': 1282, 'elemente': 637, 'orice': 1264, 'variabile': 1827, 'globale': 819, 'probabil': 1371, 'trebuia': 1744, 'rânduri': 1508, 'meargă': 1088, 'trebuie': 1746, 'alocat': 103, 'dinamic': 576, 'sfârșit': 1562, 'caz': 287, 'main': 1061, 'trebui': 1743, 'eliberată': 641, 'memoria': 1096, 'frumos': 768, 'ales': 96, 'clion': 347, 'face': 698, 'automat': 201, 'hm': 858, 'suma': 1660, 'fix': 732, 'cazul': 288, 'față': 710, 'fiecare': 719, 'parte': 1289, 'înseamnă': 1957, 'comportament': 393, 'vrem': 1881, 'date': 503, 'cele': 302, 'definite': 531, 'noi': 1196, 'motiv': 1139, 'le': 1001, 'restul': 1474, 'obligatoriu': 1232, 'mă': 1161, 'interesează': 959, 'class': 341, 'opționale': 1258, 'scrie': 1540, 'codului': 360, 'unde': 1779, 'primul': 1362, 'referă': 1450, 'câmpul': 484, 'obiectului': 1230, 'ul': 1773, 'acolade': 35, 'parametrul': 1281, 'versiuni': 1857, 'înainte': 1939, 'varianta': 1831, 'deoarece': 542, 'vei': 1845, 'primi': 1359, 'warning': 1889, 'inițializare': 937, 'loc': 1024, 'conversie': 433, 'pierdere': 1309, 'informație': 930, 'exemplu': 679, 'ești': 695, 'acord': 37, 'mine': 1119, 'funcțiile': 776, 'caut': 283, 'deși': 566, 'publică': 1396, 'metode': 1110, 'private': 1369, 'clasa': 336, 'astfel': 182, 'acestea': 30, 'primesc': 1356, 'ale': 93, 'clasei': 338, 'mi': 1113, 'detalii': 562, 'implementare': 893, 'prea': 1344, 'au': 198, 'publice': 1395, 'acestei': 31, 'refolosi': 1451, 'funcțiilor': 777, 'poată': 1323, 'ceea': 298, 'numește': 1217, 'știu': 1990, 'exact': 672, 'cum': 479, 'vine': 1863, 'destul': 561, 'înțelegi': 1976, 'complicat': 387, 'acum': 42, 'break': 235, '+': 2, 'natural': 1168, 'peste': 1305, 'aceeași': 22, 'clasă': 342, 'rămâne': 1513, 'inițializează': 941, 'vectorul': 1841, 'niște': 1192, 'valori': 1823, 'dintrun': 581, 'exemple': 678, 'input': 945, 'ideal': 867, 'citire': 328, 'afișare': 65, 'citit': 331, 'celelalte': 303, 'situații': 1589, 'apelezi': 144, 'operatorii': 1250, 'mod': 1125, 'explicit': 686, 'rog': 1502, 'eu': 664, 'zic': 1925, 'câte': 491, 'rând': 1506, 'liber': 1012, 'între': 1966, 'constructori': 418, 'zero': 1923, 'referințe': 1445, 'cât': 490, 'des': 550, 'sens': 1549, 'evităm': 670, 'fractie': 764, 'operator': 1247, '&': 1, 'ceilalți': 300, 'operatori': 1249, 'ostream': 1268, 'am': 117, 'îl': 1935, 'cout': 454, '\\\\': 5, 'ramura': 1419, 'întâmplă': 1972, 'mesaj': 1105, 'sistemul': 1586, 'soluție': 1594, 'mesajul': 1107, 'acestui': 33, 'tema': 1690, 'oop': 1244, 'generic': 800, 'spui': 1608, 'vector': 1837, 'final': 725, 'aveai': 205, 'atribuirile': 189, 'lași': 1000, 'dorești': 602, 'deloc': 539, 'sa': 1516, 'modific': 1126, 'rest': 1473, 'regula': 1452, 'mar': 1070, 'githubcomnotificationsunsubscribeauth': 815, 'citiri': 330, 'tastatură': 1685, 'comentarii': 366, 'întrun': 1969, 'separat': 1550, 'intrare': 963, 'altfel': 114, 'până': 1414, 'min': 1118, 'duplicarea': 614, 'punct': 1399, 'nivel': 1190, 'metodele': 1111, 'leaș': 1008, 'următoarea': 1798, 'transmis': 1734, 'operatorul': 1252, 'măcar': 1162, 'comentariu': 368, 'pune': 1401, 'aproape': 153, 'toți': 1730, 'indentare': 918, 'automată': 202, 'oricum': 1265, 'compilatorul': 381, 'ignoră': 887, 'genul': 801, 'iful': 882, 'fac': 697, 'ori': 1263, 'throw': 1712, 'afișează': 68, 'execuția': 677, 'trece': 1748, 'il': 888, 'cand': 263, 'avem': 207, 'nod': 1194, 'si': 1568, 'alt': 108, 'introdus': 966, 'alta': 109, 'lista': 1020, 'done': 601, 'daca': 497, 'imi': 890, 'afiseze': 63, 'pun': 1398, 'valoare': 1821, 'random': 1423, 'true': 1756, 'asa': 175, 'ei': 633, 'cppcheck': 456, 'spune': 1609, 'următoarele': 1799, 'despre': 556, 'error': 660, 'asemenea': 177, 'mie': 1117, 'îmi': 1937, 'crapă': 459, 'caracter': 267, 'cam': 261, 'potrivit': 1339, 'code': 358, 'vedem': 1843, 'laborator': 995, 'vă': 1885, 'destructorul': 560, 'memory': 1098, 'leaks': 1006, 'dim': 573, 'ambele': 118, 'cazuri': 289, 'ramură': 1422, 'scapi': 1526, 'separată': 1552, 'funcția': 772, 'aceasta': 19, 'destructor': 558, 'sintaxa': 1584, 'observ': 1234, 'aceste': 29, 'lucru': 1043, 'punem': 1402, 'setter': 1558, 'această': 20, 'sară': 1522, 'ochi': 1239, 'dintre': 580, 'trebuit': 1747, 'las': 998, 'dupa': 613, 'deschis': 551, 'altceva': 110, 'al': 92, 'doilea': 600, 'pointerul': 1328, 'zona': 1932, 'alocată': 105, 'free': 765, 'multe': 1149, 'iarăși': 865, 'folosește': 744, 'opțiune': 1259, 'modificăm': 1133, 'primească': 1354, 'deci': 516, 'putem': 1409, 'temă': 1697, 'warnings': 1890, 'generală': 795, 'atât': 196, 'moment': 1137, 'definit': 530, 'întrucât': 1968, 'special': 1600, 'declarat': 518, 'operatorconst': 1248, 'default': 524, 'citește': 325, 'refer': 1441, 'chinui': 317, 'meniu': 1099, 'iese': 878, 'ping': 1314, 'me': 1086, 'repet': 1460, 'rezolvă': 1491, 'modificat': 1129, 'citirea': 329, 'singura': 1581, 'care': 270, 'dată': 507, 'gândesc': 833, 'dau': 508, 'paste': 1292, 'gata': 791, 'singurul': 1582, 'place': 1316, 'delete': 538, 'altul': 115, 'valgrind': 1819, 'dea': 511, 'viitoare': 1860, 'astea': 181, 'relevant': 1454, 'refeream': 1442, 'ți': 1991, 'inainte': 906, 'știi': 1989, 'ăsta': 1980, 'motivul': 1141, 'apelează': 141, 'scris': 1542, 'aicihttpsdocsgooglecomdocumentbmjputflkskrsedit': 80, 'folosi': 746, 'diferite': 569, 'corect': 451, 'este': 662, 'putea': 1407, 'apeluri': 146, 'înlănțuite': 1956, 'ziceam': 1927, 'afișarea': 66, 'făcută': 783, 'nou': 1201, 'ați': 215, 'zis': 1931, 'acesta': 28, 'yahoo': 1919, 'mail': 1060, 'at': 183, '—': 1998, 'receiving': 1431, 'because': 220, 'thread': 1711, 'reply': 1464, 'email': 646, 'directly': 583, 'view': 1859, 'github': 814, 'or': 1261, 'unsubscribe': 1790, 'șters': 1986, 'celălalt': 304, 'folosite': 750, 'nicăieri': 1187, 'programul': 1382, 'vezi': 1858, 'editor': 630, 'folosești': 745, 'viitor': 1861, 'fii': 720, 'tipul': 1717, 'mersi': 1104, 'bug': 238, 'luat': 1042, 'seama': 1548, 'suplimentare': 1665, 'accesezi': 16, 'memorie': 1097, 'invalide': 970, 'lui': 1046, 'transmiți': 1738, 'const': 409, 'posibil': 1333, 'știe': 1988, 'necesar': 1172, 'should': 1566, 'atribuiri': 188, 'timp': 1713, 'citești': 326, 'leam': 1007, 'pus': 1404, 'incerc': 909, 'mâine': 1160, 'ajutor': 88, 'puteai': 1408, 'fișierele': 736, 'hack': 838, 'operare': 1246, 'depinde': 545, 'ajută': 89, 'funcții': 775, 'standard': 1612, 'strict': 1640, 'legate': 1009, 'compilator': 380, 'clang': 334, 'implementarea': 894, 'demult': 540, 'mesaje': 1106, 'eroare': 655, 'exista': 681, 'informații': 931, 'într': 1964, 'interfață': 961, 'grafică': 824, 'informația': 929, 'respectivă': 1472, 'numele': 1215, 'unui': 1791, 'introduci': 965, 'început': 1943, 'numărul': 1220, 'uita': 1768, 'todo': 1725, 'afisare': 61, 'momentan': 1138, 'idee': 868, 'bună': 246, 'stdvector': 1628, 'size': 1590, 'având': 209, 'vedere': 1844, 'apela': 137, 'câmpuri': 485, 'inițializezi': 942, 'element': 636, 'false': 707, 'implicit': 900, 'toate': 1722, 'elementele': 638, 'portabil': 1331, 'etc': 663, 'rezolvi': 1490, 'of': 1240, 'aka': 91, '‘': 1999, 'long': 1037, 'unsigned': 1789, 'char': 312, 'double': 605, 'altele': 112, 'asemănătoare': 178, 'așadar': 212, 'alocare': 101, 'dinamică': 578, 'eliberezi': 642, 'copie': 440, 'copia': 437, 'aștepta': 214, 'obicei': 1225, 'încep': 1942, 'literă': 1023, 'mare': 1071, 'caractere': 268, 'redenumești': 1436, 'schimbi': 1532, 'public': 1394, 'faptul': 709, 'matrice': 1078, 'singular': 1579, 'plural': 1320, 'folosesc': 743, 'forma': 756, 'veni': 1846, 'problema': 1372, 'îți': 1979, 'mulți': 1151, 'variante': 1832, 'aceea': 21, 'overkill': 1271, 'nv': 1221, 'explicații': 685, 'tip': 1716, 'inițializat': 939, 'puțin': 1412, 'obții': 1238, 'adresa': 51, 'teoretic': 1698, 'eficient': 632, 'realitate': 1430, 'decât': 523, 'două': 606, 'făcut': 781, 'unul': 1792, 'cere': 305, 'forint': 755, 'obnv': 1233, 'ob': 1224, 'țiar': 1993, 'încă': 1951, 'primește': 1357, 'număr': 1219, 'lungime': 1048, 'bad': 216, 'stiu': 1633, 'facut': 705, 'inteles': 953, 'fost': 763, 'prima': 1353, 'data': 502, 'dat': 501, 'vazut': 1835, 'gandit': 787, 'făcute': 782, 'alocări': 107, 'scrii': 1541, 'argumente': 164, 'partea': 1290, 'lucruri': 1044, 'par': 1277, 'merg': 1100, 'clar': 335, 'verific': 1849, 'rezolvăm': 1492, 'problemele': 1374, 'practic': 1342, 'suprascrii': 1667, 'valoarea': 1822, 'alocarea': 102, 'rândul': 1507, 'referitor': 1449, 'deja': 537, 'multumesc': 1150, 'modificarea': 1128, 'pointeri': 1325, 'către': 494, 'diferența': 567, 'copy': 448, 'ne': 1170, 'string': 1641, 'stdstring': 1627, 'stil': 1631, 'lăsăm': 1053, 'invalid': 969, 'primit': 1360, 'repo': 1465, 'ciudat': 332, 'abia': 9, 'local': 1025, 'per': 1298, 'total': 1727, 'contează': 426, 'neinițializate': 1175, 'atribui': 186, 'departe': 543, 'îi': 1934, 'dai': 499, 'voie': 1873, 'logica': 1034, 'mea': 1087, 'fisier': 730, 'complet': 385, 'aiurea': 82, 'constantă': 413, 'define': 525, 'scăpat': 1546, 'trecută': 1751, 'închis': 1947, 'neapărat': 1171, 'acești': 34, 'înlocuit': 1955, 'caută': 284, 'folosit': 749, 'afara': 58, 'ultimul': 1776, 'dreptate': 610, 'creez': 466, 'părea': 1415, 'direct': 582, 'totuși': 1729, 'uit': 1767, 'compilezi': 384, 'locale': 1026, 'pierzi': 1310, 'referința': 1444, 'transmiterea': 1737, 'funcției': 774, 'acces': 15, 'pointer': 1324, 'afișăm': 70, 'conținutul': 435, 'afla': 73, 'dimensiunea': 574, 'copiezi': 445, 'vectori': 1838, 'supraîncarci': 1669, 'declarația': 519, 'cea': 295, 'identică': 873, 'simplifica': 1572, 'numarcomplex': 1212, 'afișa': 64, 'normal': 1197, 'atâtea': 197, 'ifuri': 883, 'observat': 1235, 'repeți': 1462, 'modul': 1136, 'zicem': 1928, 'apelul': 145, 'find': 726, 'replace': 1463, 'înlocui': 1952, 'set': 1555, 'minim': 1121, 'scriu': 1543, 'avut': 208, 'sper': 1606, 'întorci': 1962, 'adică': 50, 'alocate': 104, 'stivă': 1635, 'distrus': 593, 'modifici': 1131, 'obiectul': 1229, 'returnezi': 1479, 'suficient': 1656, 'unele': 1783, 'totul': 1728, 'altă': 116, 'erori': 657, 'stiva': 1634, 'implementa': 892, 'aflat': 74, 'extensie': 689, 'cpp': 455, 'rezultatul': 1495, 'verifici': 1854, 'necesare': 1173, 'rămas': 1511, 'puține': 1413, 'noul': 1203, 'aloci': 106, 'optimizare': 1255, 'noua': 1202, 'numai': 1210, 'ulterior': 1775, 'întoarce': 1960, 'identic': 871, 'vreun': 1883, 'getteri': 808, 'vreo': 1882, 'garanție': 788, 'anterior': 124, 'redenumește': 1435, 'stdcout': 1624, 'însemna': 1958, 'câmpurile': 486, 'vreau': 1879, 'distrug': 590, 'pur': 1403, 'sterg': 1629, 'afisez': 62, 'verifica': 1850, 'leak': 1004, 'undeva': 1781, 'ma': 1054, 'observații': 1237, 'acestor': 32, 'apel': 136, 'pointerii': 1326, 'inițializarea': 938, 'mic': 1115, 'spațiul': 1599, 'construit': 424, 'similar': 1570, 'știam': 1987, '^': 7, 'schimb': 1529, 'uitat': 1770, 'zice': 1926, 'no': 1193, 'info': 928, 'struct': 1644, 'copiază': 439, 'ții': 1995, 'minte': 1124, 'stare': 1614, 'locală': 1027, 'circulară': 324, 'soluții': 1595, 'specifice': 1603, 'creat': 460, 'listă': 1022, 'transformi': 1733, 'ele': 635, 'rămân': 1512, 'continuare': 428, 'trimiți': 1755, 'direcție': 586, 'afișări': 71, 'grupate': 830, 'list': 1019, 'adăugate': 55, 'văzut': 1887, 'resursele': 1477, 'abc': 8, 'mers': 1103, 'copiat': 438, 'clear': 343, 'stack': 1611, 'ramas': 1418, 'heap': 855, 'summary': 1661, 'newunsigned': 1181, 'usrlibvalgrindamdlinuxso': 1809, 'by': 250, 'temapoomain': 1692, 'xe': 1915, 'indirect': 924, 'bytes': 251, 'blocks': 232, 'definitely': 532, 'lost': 1040, 'loss': 1039, 'record': 1434, 'xceef': 1909, 'indirectly': 925, 'xd': 1911, 'xda': 1912, 'reachable': 1426, 'usrlibxlinuxgnulibstdc++so': 1810, 'xc': 1907, 'dlinit': 595, 'errors': 661, 'contexts': 427, 'suppressed': 1666, 'întoarcă': 1961, 'operațiile': 1254, 'aparent': 133, 'inițial': 935, 'interesant': 958, 'inteleg': 952, 'acolo': 36, 'poti': 1338, 'iuliaaatema': 981, '|': 1933, 'account': 17, 'testat': 1701, 'static': 1617, 'elimină': 644, 'erorile': 658, 'întâmple': 1971, 'actualizat': 40, 'foarte': 740, 'înapoi': 1940, 'respectiv': 1470, 'întotdeauna': 1963, 'apar': 131, 'crezi': 468, 'încearcă': 1941, 'încerc': 1944, 'distruge': 591, 'variabilele': 1828, 'teai': 1688, 'fiu': 731, 'cârcotaș': 489, 'verificat': 1853, 'întâi': 1970, 'indiferent': 923, 'situație': 1588, 'with': 1902, 'dynamic': 618, 'verificarea': 1852, 'apare': 132, 'deprecated': 546, 'temporar': 1696, 'argument': 163, 'optimizări': 1257, 'definești': 528, 'tine': 1715, 'cc': 291, 'op': 1245, 'using': 1808, 'namespace': 1165, 'std': 1620, 'imediat': 889, 'constante': 411, 'compari': 377, 'își': 1978, 'dă': 620, 'greu': 826, 'stl': 1636, 'vectorii': 1839, 'înțeles': 1977, 'uite': 1771, 'copypaste': 449, 'recomandat': 1433, 'readme': 1429, 'creează': 465, 'maincpp': 1062, 'copieze': 444, 'citi': 327, 'cumva': 480, 'not': 1199, 'swap': 1676, 'cap': 264, 'crt': 471, 'salut': 1520, 'incercat': 910, 'polinom': 1329, 'while': 1898, 'subiectiv': 1653, 'impresia': 904, 'explicite': 687, 'compilare': 378, 'drept': 609, 'function': 771, 'type': 1762, 'trecut': 1750, 'șiruri': 1982, 'create': 461, 'biblioteci': 224, 'externe': 691, 'diferit': 568, 'numere': 1216, 'parametrii': 1279, 'rezultate': 1494, 'operație': 1253, 'calcul': 253, 'afară': 59, 'magice': 1058, 'privat': 1368, 'testez': 1703, 'maxim': 1080, 'definită': 533, 'lăsa': 1051, 'variable': 1830, 'diferită': 570, 'constantele': 412, 'însă': 1959, 'declari': 521, 'primești': 1358, 'membru': 1095, 'scop': 1535, 'exemplul': 680, 'complici': 390, 'lucrurile': 1045, 'inutil': 967, 'rezolvat': 1489, 'pierde': 1308, 'constcast': 414, 'functia': 769, 'implicită': 902, 'întradevăr': 1965, 'nullptr': 1209, 'adaug': 43, 'tratezi': 1740, 'link': 1015, 'header': 849, 'transmite': 1735, 'crape': 458, 'rămână': 1514, 'respective': 1471, 'obiect': 1226, 'definește': 527, 'deabia': 512, 'încerci': 1945, 'linia': 1013, 'comandă': 364, 'redundant': 1439, 'adăuga': 52, 'coadă': 356, 'toată': 1723, 'devine': 564, 'urât': 1801, 'clase': 337, 'adăugat': 54, 'construiești': 423, 'intre': 964, 'ajungi': 84, 'ah': 75, 'lasă': 999, 'adica': 49, 'decat': 515, 'diferă': 571, 'numi': 1218, 'tu': 1759, 'buna': 244, 'first': 729, 'corectez': 452, 'solved': 1596, 'fixes': 733, 'subscribed': 1654, 'cerințele': 308, 'comune': 397, 'neclarități': 1174, 'variabila': 1826, 'apelurile': 147, 'eviți': 671, 'buguri': 240, 'mergea': 1102, 'program': 1381, 'leakcheckfull': 1005, 'showleakkindsall': 1567, 'trackoriginsyes': 1732, 'copyright': 450, 'gpl': 823, 'command': 373, 'temacpp': 1691, 'xb': 1906, 'țiam': 1992, 'initial': 934, 'atribuire': 187, 'eroarea': 656, 'posibilitatea': 1335, 'dpdv': 607, 'tare': 1683, 'forul': 760, 'pai': 1275, 'primele': 1355, 'aia': 77, 'cerere': 306, 'programului': 1383, 'general': 794, 'dubios': 611, 'format': 757, 'dintr': 579, 'reține': 1497, 'aer': 57, 'încolo': 1948, 'ea': 622, 'ține': 1997, 'excepții': 675, 'convenție': 431, 'funcționează': 778, 'team': 1689, 'chinuit': 318, 'lăsat': 1052, 'niste': 1189, 'chestii': 315, 'treaba': 1741, 'pana': 1276, 'proiectul': 1385, 'push': 1405, 'globală': 820, 'make': 1064, 'cmake': 351, 'tău': 1766, 'înlocuiește': 1953, 'wall': 1888, 'wextra': 1895, 'pedantic': 1296, 'std++': 1621, 'rândurile': 1509, 'schimbă': 1533, 'apucat': 157, 'name': 1164, 'complicată': 389, 'specifică': 1605, 'unei': 1782, 'implementări': 899, 'derivată': 549, 'parcurs': 1283, 'fișiere': 735, 'cine': 321, 'moștenirea': 1146, 'compunerea': 395, 'abonat': 12, 'extern': 690, 'compilează': 382, 'typo': 1764, 'degeaba': 535, 'sistem': 1585, 'browser': 236, 'enum': 652, 'stdmove': 1625, 'normală': 1198, 'invers': 971, 'cauți': 286, 'persoana': 1301, 'id': 866, 'referințele': 1446, 'configurează': 404, 'working': 1903, 'directory': 584, 'colocviu': 362, 'sugerează': 1657, 'editorul': 631, 'testezi': 1704, 'claselor': 340, 'interes': 957, 'apeleze': 143, 'clasele': 339, 'derivate': 548, 'virtuală': 1869, 'print': 1365, 'apelată': 140, 'cast': 275, 'vom': 1874, 'modifica': 1127, 'înlocuiești': 1954, 'oarecum': 1223, 'intenționat': 955, 'separate': 1551, 'folderul': 742, 'lipsește': 1018, 'virtual': 1866, 'apelat': 138, 'presupun': 1348, 'constructorii': 419, 'destructorii': 559, 'calculezi': 257, 'adaugă': 47, 'urmărit': 1797, 'asemănător': 179, 'spus': 1610, 'compileze': 383, 'nodrosunegru': 1195, 'object': 1231, 'which': 1897, 'has': 845, 'undefined': 1780, 'behavior': 222, 'liste': 1021, 'una': 1778, 'vor': 1875, 'interfața': 960, 'bază': 219, 'istream': 976, 'supără': 1670, 'copierea': 442, 'proces': 1376, 'muți': 1158, 'teste': 1702, 'capacitatea': 265, 'datele': 504, 'detaliu': 563, 'câteva': 492, 'timpul': 1714, 'reușit': 1482, 'flags': 738, 'specifici': 1604, 'aștept': 213, 'virtualizarea': 1868, 'scopul': 1536, 'temei': 1693, 'voiam': 1871, 'aveam': 206, 'sun': 1662, 'greșeală': 827, 'bool': 234, 'try': 1757, 'catch': 279, 'arunce': 171, 'excepție': 674, 'apelez': 142, 'gandeam': 786, 'baza': 218, 'putin': 1410, 'repetă': 1461, 'tipuri': 1718, 'primitive': 1361, 'pereche': 1299, 'putut': 1411, 'preferat': 1346, 'ineficient': 926, 'perechi': 1300, 'tale': 1682, 'ție': 1994, 'mcmarius': 1084, 'adaugat': 45, 'get': 802, 'numească': 1214, 'urma': 1796, 'meci': 1089, 'implementezi': 898, 'găsit': 837, 'târziu': 1765, 'echipa': 623, 'meciuri': 1090, 'echipe': 624, 'atribut': 190, 'compunere': 394, 'atribute': 191, 'modifică': 1132, 'atributelor': 193, 'intenția': 954, 'propun': 1390, 'calculează': 256, 'finishrace': 728, 'degrabă': 536, 'echipă': 626, 'încât': 1950, 'lor': 1038, 'atributul': 194, 'extrage': 693, 'afișările': 72, 'cazurile': 290, 'comentariile': 367, 'nouă': 1204, 'compilat': 379, 'ignorat': 884, 'identice': 872, 'ramuri': 1420, 'ifelse': 881, 'echipele': 625, 'modifice': 1130, 'obiectele': 1228, 'printre': 1366, 'mutăm': 1156, 'adăugăm': 56, 'artist': 168, 'muzeu': 1157, 'referit': 1448, 'subclasă': 1652, 'discutat': 588, 'nivelul': 1191, 'mută': 1155, 'cei': 299, 'generați': 798, 'proprietar': 1388, 'service': 1553, 'arunci': 172, 'inițializate': 940, 'never': 1177, 'used': 1803, 'șisau': 1983, 'muta': 1152, 'reții': 1496, 'idei': 870, 'condițiile': 402, 'legătură': 1011, 'hardcodat': 841, 'ctime': 475, 'namespaceul': 1166, 'headerele': 851, 'kbdshiftkbd+kbdkbd': 992, 'convenții': 432, 'player': 1318, 'description': 553, 'ramurile': 1421, 'functie': 770, 'acele': 25, 'inițializări': 943, 'logic': 1033, 'go': 821, 'oh': 1241, 'actions': 39, 'vad': 1817, 'doua': 604, 'ia': 863, 'jucator': 987, 'inițializa': 936, 'jocului': 984, 'justifică': 991, 'champion': 311, 'posibile': 1334, 'abilities': 10, 'reusit': 1480, 'scap': 1525, 'comentat': 370, 'cstdlib': 472, 'incluse': 916, 'up': 1793, 'moștenire': 1145, 'insa': 946, 'joc': 982, 'headere': 850, 'range': 1424, 'system': 1678, 'cls': 350, 'endif': 648, 'comenzi': 371, 'sfml': 1561, 'apropo': 154, 'venitul': 1848, 'anual': 127, 'reprezentanță': 1467, 'mașină': 1083, 'preț': 1351, 'venit': 1847, 'repauto': 1458, 'masina': 1075, 'revizii': 1485, 'revizie': 1484, 'câmp': 483, 'mașini': 1082, 'repara': 1456, 'diverse': 594, 'pretext': 1349, 'complicăm': 392, 'dinamice': 577, 'calcula': 254, 'style': 1648, 'referi': 1443, 'sine': 1577, 'credeam': 464, 'vin': 1862, 'hardcoda': 840, 'scenariu': 1528, 'client': 344, 'legătura': 1010, 'produs': 1377, 'comanda': 363, 'produse': 1378, 'nota': 1200, 'privată': 1370, 'build': 241, 'clientul': 345, 'film': 723, 'filme': 724, 'mari': 1072, 'angajat': 121, 'categorie': 281, 'atributele': 192, 'bune': 245, 'copil': 447, 'jucării': 988, 'complică': 391, 'autor': 203, 'alegi': 95, 'descriere': 552, 'item': 978, 'zici': 1929, 'float': 739, 'portabile': 1332, 'elev': 639, 'elevi': 640, 'niciun': 1186, 'headers': 853, 'user': 1804, 'media': 1091, 'fă': 780, 'materie': 1077, 'sub': 1649, 'antetul': 126, 'calcule': 255, 'debugging': 514, 'luni': 1049, 'nov': 1205, 'cauza': 285, 'sugestie': 1658, 'standardul': 1613, 'dificil': 572, 'apărea': 158, 'ecran': 628, 'anume': 129, 'ascii': 176, 'art': 166, 'width': 1899, 'caracterele': 269, 'variantă': 1833, 'sparge': 1597, 'mașina': 1081, 'cstring': 473, 'riscul': 1500, 'complica': 386, 'vrut': 1884, 'condiția': 401, 'aruncă': 173, 'titlul': 1720, 'stoc': 1638, 'stdostream': 1626, 'operatorstdostream': 1251, 'recomand': 1432, 'valorile': 1824, 'grav': 825, 'lângă': 1050, 'subclase': 1650, 'implicite': 901, 'text': 1705, 'gcc': 792, 'helper': 856, 'durata': 617, 'ani': 123, 'zile': 1930, 'specific': 1602, 'defini': 529, 'bibliotecă': 226, 'rost': 1504, 'catalog': 278, 'conțină': 436, 'lua': 1041, 'materia': 1076, 'utilizator': 1814, 'users': 1806, 'logare': 1031, 'smart': 1592, 'pointers': 1327, 'regulă': 1453, 'protected': 1391, 'construiește': 422, 'getch': 803, 'incluzi': 917, 'apară': 134, 'conflicte': 407, 'net': 1176, 'înțelege': 1975, 'statică': 1619, 'harta': 844, 'cmd': 355, 'file': 722, 'foruri': 761, 'acea': 18, 'turnuri': 1761, 'dămi': 621, 'concret': 399, 'zi': 1924, 'forauto': 753, 'carte': 271, 'cppuri': 457, 'declară': 522, 'documentezi': 598, 'texturi': 1707, 'întrebare': 1967, 'ignori': 886, 'bugs': 239, 'pachet': 1274, 'speciale': 1601, 'reprezintă': 1468, 'jucător': 989, 'găsește': 835, 'cateva': 282, 'inca': 907, 'conține': 434, 'getter': 807, 'gândeam': 832, 'prețul': 1352, 'minimal': 1122, 'construi': 421, 'trebuiască': 1745, 'caps': 266, 'informațiile': 932, 'liniile': 1014, 'colecție': 361, 'rlutil': 1501, 'răspuns': 1515, 'interiorul': 962, 'does': 599, 'decision': 517, 'xce': 1908, 'xa': 1904, 'minefunctionplayer': 1120, 'xec': 1916, 'newallocator': 1180, 'alloctraits': 100, 'stlvector': 1637, 'vectortcc': 1840, 'datelor': 505, 'gh': 812, 'dum': 612, 'miam': 1114, 'scapă': 1527, 'refactorizare': 1440, 'varsta': 1834, 'student': 1647, 'call': 260, 'sugestiv': 1659, 'rolul': 1503, 'schimba': 1530, 'biblioteca': 223, 'templates': 1695, 'repari': 1457, 'map': 1069, 'stringuri': 1643, 'unicode': 1785, 'mda': 1085, 'yml': 1920, 'virtuale': 1867, 'template': 1694, 'comentariul': 369, 'gasit': 790, 'pushback': 1406, 'moșteniri': 1147, 'sleep': 1591, 'extrem': 694, 'scor': 1537, 'sursă': 1673, 'btw': 237, 'scoți': 1539, 'cmakebuilddebug': 352, 'terminal': 1699, 'cineva': 322, 'produsele': 1379, 'stiam': 1630, 'switch': 1677, 'definiția': 534, 'antet': 125, 'case': 273, 'magazin': 1056, 'magazinul': 1057, 'majoritatea': 1063, 'corpul': 453, 'ajuns': 86, 'învățat': 1973, 'scade': 1524, 'vino': 1864, 'right': 1499, 'criptic': 469, 'feedback': 711, 'grijă': 829, 'circulare': 323, 'utile': 1812, 'trycatch': 1758, 'shinobi': 1565, 'irelevant': 973, 'minimalist': 1123, 'override': 1272, 'apelate': 139, 'dos': 603, 'locul': 1028, 'runtime': 1505, 'culoare': 477, 'piese': 1312, 'articol': 167, 'manuscris': 1068, 'moștenească': 1143, 'abordarea': 13, 'excepțiile': 676, 'verificare': 1851, 'erorilor': 659, 'bibliotecile': 225, 'observație': 1236, 'schimbat': 1531, 'prinzi': 1367, 'excepția': 673, 'auto': 199, 'datetxt': 506, 'uniqueptr': 1787, 'inclus': 915, 'strings': 1642, 'funcționeze': 779, 'subclasele': 1651, 'alea': 94, 'gen': 793, 'start': 1615, 'proprii': 1389, 'turn': 1760, 'structuri': 1645, 'culori': 478, 'headerul': 854, 'includeuri': 914, 'praf': 1343, 'proiect': 1384, 'getnume': 805, 'existent': 682, 'init': 933, 'reset': 1469, 'copii': 446, 'chrono': 319, 'poziția': 1340, 'fetch': 716, 'sudo': 1655, 'aptget': 156, 'update': 1794, 'install': 947, 'apt': 155, 'rădăcina': 1510, 'proiectului': 1386, 'absolut': 14, 'formule': 759, 'arunca': 169, 'lung': 1047, 'casier': 274, 'creezi': 467, 'blocul': 233, 'instanțiezi': 948, 'play': 1317, 'comm': 372, 'jocul': 983, 'măr': 1163, 'piesa': 1311, 'repede': 1459, 'piesă': 1313, 'bifezi': 228, 'singleton': 1578, 'cartecpp': 272, 'address': 48, 'created': 462, 'scurt': 1544, 'sursele': 1672, 'ifcartinrcartegetnume': 880, 'îmbârligat': 1936, 'versiune': 1856, 'vadă': 1818, 'folosind': 748, 'simplifici': 1573, 'erau': 654, 'factory': 701, 'renunți': 1455, 'design': 554, 'pattern': 1294, 'trimis': 1754, 'implementez': 897, 'linkul': 1016, 'iti': 980, 'fereastră': 714, 'iei': 876, 'factoryul': 702, 'distrugerea': 592, 'end': 647, 'xcf': 1910, 'stdallocatorchar': 1622, 'xfb': 1917, 'derivat': 547, 'chestia': 314, 'personaj': 1303, 'builder': 242, 'clienți': 346, 'atenție': 185, 'global': 818, 'voi': 1870, 'ajunge': 83, 'situația': 1587, 'gândeștete': 834, 'controller': 429, 'entitate': 650, 'db': 509, 'manuale': 1067, 'manual': 1066, 'nvm': 1222, 'vorbim': 1877, 'persoană': 1302, 'manager': 1065, 'simplă': 1576, 'cont': 425, 'simpli': 1571, 'calculul': 258, 'cmakeliststxt': 354, 'projectname': 1387, 'cale': 259, 'iostream': 972, 'numar': 1211, 'constant': 410, 'scoate': 1534, 'autobuz': 200, 'leai': 1003, 'directoryul': 585, 'application': 152, 'httpsgithubcomhowardhinnantdate': 861, 'pls': 1319, 'mutat': 1154, 'configurat': 403, 'rating': 1425, 'comparații': 376, 'personal': 1304, 'statice': 1618, 'setterul': 1560, 'pas': 1291, 'forconst': 754, 'items': 979, 'opțiunea': 1260, 'comună': 398, 'formula': 758, 'setteri': 1559, 'included': 912, 'linux': 1017, 'binare': 229, 'getters': 810, 'hardcodezi': 843, 'scos': 1538, 'instrument': 950, 'căutare': 495, 'salariu': 1517, 'compuneri': 396, 'evită': 669, 'treilea': 1752, 'buton': 249, 'cate': 280, 'independente': 921, 'setezi': 1556, 'compara': 375, 'guards': 831, 'structură': 1646, 'simplifică': 1574, 'prinde': 1364, 'verificări': 1855, '\\\\\\\\': 6, 'useri': 1805, 'configurez': 405, 'algorithm': 97, 'generat': 796, 'repoul': 1466, 'eveniment': 665, 'aruncată': 170, 'mutare': 1153, 'clone': 348, 'sharedptr': 1563, 'reușește': 1481, 'mac': 1055, 'state': 1616, 'angajați': 122, 'motive': 1140, 'array': 165, 'revii': 1483, 'anumit': 130, 'https': 859, 'max': 1079, 'actualizezi': 41, 'sursa': 1671, 'lambda': 997, 'result': 1475, 'warningul': 1891, 'member': 1094, 'forțat': 762, 'transmitere': 1736, 'rfin': 1498, 'game': 785, 'echivalent': 627, 'tratarea': 1739, 'vedea': 1842, 'market': 1073, 'getterul': 811, 'balance': 217, 'bloc': 231, 'userul': 1807, 'pretul': 1350, 'moștenești': 1144, 'idul': 874, 'dynamiccast': 619, 'index': 922, 'camera': 262, 'implementate': 896, 'hardcoded': 842, 'defineuri': 526, 'high': 857, 'logică': 1035, 'enemy': 649, 'httpsisocppgithubio': 862, 'prefix': 1347, 'reacții': 1428, 'ora': 1262, 'ceas': 297, 'shift+': 1564, 'indentează': 920, 'anul': 128, 'rezervarea': 1487, 'rezervări': 1488, 'rezervare': 1486, 'gitignoreul': 817, 'generate': 797, 'cealaltă': 296, 'afis': 60, 'constexpr': 415, 'abonament': 11, 'factura': 703, 'snake': 1593, 'tail': 1681, 'stdarray': 1623, 'aparțin': 135, 'curs': 482, 'jocuri': 985, 'mesajului': 1108, 'aplicație': 150, 'resurse': 1476, 'inline': 944, 'reactie': 1427, 'exprimat': 688, 'configurezi': 406, 'ajuta': 87, 'factură': 704, 'unor': 1788, 'aicihttpsisocppgithubio': 81, 'garderoba': 789, 'tricou': 1753, 'outfit': 1270, 'evident': 667, 'exit': 684, 'ciudată': 333, 'getterii': 809, 'close': 349, 'csv': 474, 'aplicația': 149, 'optimization': 1256, 'conditional': 400, 'jump': 990, 'move': 1142, 'depends': 544, 'uninitialised': 1786, 'value': 1825, 'xfbminsertlonglong': 1918, 'allocation': 99, 'xdecminsertintlongstdiosbase': 1913, 'pasul': 1293, 'medicament': 1092, 'xae': 1905, 'stochează': 1639, 'salt': 1518, 'saltul': 1519, 'unic': 1784, 'parola': 1286, 'hashed': 847, 'login': 1036, 'valid': 1820, 'logat': 1032, 'act': 38, 'generează': 799, 'aplicatie': 148, 'sesiune': 1554, 'conturi': 430, 'alternativ': 113, 'parolă': 1288, 'parole': 1287, 'rezultat': 1493, 'cd': 293, 'iduri': 875, 'duplici': 615, 'confuzie': 408, 'găsești': 836, 'criptice': 470, 'locurile': 1030, 'cmakelists': 353, 'ajungă': 85, 'păstrezi': 1416, 'instrucțiuni': 949, 'picat': 1307, 'hash': 846, 'complicate': 388, 'textul': 1706, 'atent': 184, 'leagă': 1002, 'medicamentcpp': 1093, 'ierarhie': 877, 'headeronly': 852, 'utilitare': 1813, 'țin': 1996, 'qualifiers': 1417, 'ignored': 885, 'wignoredqualifiers': 1900, 'getid': 804, 'args': 162, 'typeid': 1763, 'punctul': 1400, 'reducere': 1438, 'comedianti': 365, 'tp': 1731, 'alloc': 98, 'display': 589, 'destr': 557, 'lactyferrinid': 996, 'immunomixid': 891, 'klearvolid': 993, 'nasirusid': 1167, 'golamirid': 822, 'suvezenid': 1675, 'ferretabid': 715, 'xdef': 1914, 'ccop': 292, 'zbor': 1922, 'externă': 692, 'provider': 1392, 'hashing': 848, 'folderele': 741, 'original': 1266, 'casts': 276, 'httpsgithubcomeffolkroniumrandom': 860, 'ajutătoare': 90, 'precizezi': 1345, 'constr': 416, 'disc': 587, 'profitul': 1380, 'interactiv': 956, 'treci': 1749, 'treacă': 1742, 'ull': 1774, 'sanitizers': 1521, 'cândva': 488, 'tag': 1680, 'bifele': 227, 'dezactiva': 565, 'wd': 1893, 'suprascris': 1668, 'nava': 1169, 'taste': 1686, 'fa': 696, 'pootemevars': 1330, 'castul': 277, 'butoane': 248, 'pixel': 1315, 'tastaturatxt': 1684, 'getowner': 806, 'includeitem': 913, 'been': 221, 'declared': 520, 'setowneruser': 1557, 'owner': 1273, 'marketentry': 1074, 'entry': 651}\n"
     ]
    }
   ],
   "source": [
    "from sklearn.feature_extraction.text import CountVectorizer\n",
    "\n",
    "vectorizer = CountVectorizer(max_features = 2000,tokenizer = lambda x: x, preprocessor = lambda x: x, max_df = 0.5)\n",
    "\n",
    "vectorizer.fit(texts)\n",
    "\n",
    "print(vectorizer.vocabulary_)"
   ]
  },
  {
   "cell_type": "code",
   "execution_count": 15,
   "id": "390df340",
   "metadata": {},
   "outputs": [],
   "source": [
    "words = vectorizer.get_feature_names()\n",
    "\n",
    "with open(\"output.txt\", \"w\") as txt_file:\n",
    "    for word in words:\n",
    "        txt_file.write(word + \"\\n\") # works with any number of elements in a line"
   ]
  },
  {
   "cell_type": "code",
   "execution_count": 27,
   "id": "2bc51a65",
   "metadata": {},
   "outputs": [],
   "source": [
    "X = vectorizer.fit_transform(texts).toarray()\n",
    "\n",
    "X = X.sum(axis = 1)\n",
    "\n",
    "with open(\"evolutie.txt\", \"w\") as txt_file:\n",
    "    for line in X:\n",
    "        txt_file.write(str(line) + \"\\n\") # works with any number of elements in a line"
   ]
  }
 ],
 "metadata": {
  "kernelspec": {
   "display_name": "Python 3 (ipykernel)",
   "language": "python",
   "name": "python3"
  },
  "language_info": {
   "codemirror_mode": {
    "name": "ipython",
    "version": 3
   },
   "file_extension": ".py",
   "mimetype": "text/x-python",
   "name": "python",
   "nbconvert_exporter": "python",
   "pygments_lexer": "ipython3",
   "version": "3.9.13"
  }
 },
 "nbformat": 4,
 "nbformat_minor": 5
}
